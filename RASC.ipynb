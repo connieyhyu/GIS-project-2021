{
 "cells": [
  {
   "cell_type": "markdown",
   "metadata": {},
   "source": [
    "# Jupyter notebook description\n",
    "\n",
    "- Date: 27 May 2022 updated.\n",
    "- Usage: This is a Jupyter Notebook for computing roof-based aspect and slope. Users only need to set the file path and filenames.\n",
    "- Input: \n",
    "  1. A filtered LAS dataset (.lasd).\n",
    "  2. A roof outline shapefile (.shp). The roof shapefile needs to have a column called \"ID_Sep\" with unique integer values for identifying each roof.\n",
    "- Output:   \n",
    "   A roof outline shapefile (.shp) with roof-based aspect and slope.\n"
   ]
  },
  {
   "cell_type": "markdown",
   "metadata": {},
   "source": [
    "# Set the input files' path\n",
    "Users need to set their own file paths and filenames in the next cell. This is the only cell that users need to modify."
   ]
  },
  {
   "cell_type": "code",
   "execution_count": null,
   "metadata": {},
   "outputs": [],
   "source": [
    "import arcpy\n",
    "from arcpy import env  \n",
    "from arcpy.sa import *\n",
    "\n",
    "# Set the working directory and some parameters. Please modify this cell to your working directory and preferred names. \n",
    "outfolder = \"C:\\\\...(user's path)..\\\\AnExample.gdb\"   # @@@@@ The working directory\n",
    "prefixName0 = "\\\\PYT81_t01DSM"                        # @@@@@ The user defined raster filename for aspect and slope calculation\n",
    "prefixNameAsp = "\\\\PYT81_t01DSM_asp"                  # @@@@@ A user defined prefix for aspect calculation\n",
    "prefixNameSlp = "\\\\PYT81_t01DSM_slp"                  # @@@@@ A user defined prefix for slope calculation\n",
    "\n",
    "in_las_dataset = \"...(user's path)..\\\\....lasd\"       # @@@@@ The path of the LAS dataset\n",
    "\n",
    "shp2905 = \"...(user's path)...\\\\....shp\"              # @@@@@ The path of the roof outline shapefile\n",
    "\n",
    "sampling_value_user = 0.1                             # @@@@@ The sampling value for coverting LAS dataset to raster\n",
    "\n",
    "chosenShp = shp2905                                   # No need to change this line\n",
    "prefixName = prefixNameAsp                            # No need to change this line\n"
   ]
  },
  {
   "cell_type": "markdown",
   "metadata": {},
   "source": [
    "# Create a function for checking if a same name output file is existed."
   ]
  },
  {
   "cell_type": "code",
   "execution_count": null,
   "metadata": {},
   "outputs": [],
   "source": [
    "def checkExist(inFile):\n",
    "    if arcpy.Exists(inFile):\n",
    "        arcpy.Delete_management(inFile)\n"
   ]
  },
  {
   "cell_type": "markdown",
   "metadata": {},
   "source": [
    "# Make a copy of the roof outline shapefile. This file will be the final output in the Jupyter notebook."
   ]
  },
  {
   "cell_type": "code",
   "execution_count": null,
   "metadata": {},
   "outputs": [],
   "source": [
    "roof_copied = outfolder + prefixName + \"_roof_copied\" \n",
    "\n",
    "checkExist(roof_copied)\n",
    "\n",
    "arcpy.management.CopyFeatures(shp2905, roof_copied)"
   ]
  },
  {
   "cell_type": "markdown",
   "metadata": {},
   "source": [
    "# Step 1 - LAS dataset to raster\n",
    "\n",
    "The cell will consume lots of runtime. "
   ]
  },
  {
   "cell_type": "code",
   "execution_count": null,
   "metadata": {},
   "outputs": [],
   "source": [
    "# Set output file name\n",
    "out_LasToRaster = outfolder + prefixName0\n",
    "\n",
    "checkExist(out_LasToRaster)\n",
    "\n",
    "# Execute the geoprocessing tool LasDatasetToRaster\n",
    "arcpy.conversion.LasDatasetToRaster(in_las_dataset, \n",
    "                                    out_LasToRaster, \n",
    "                                    value_field = \"Elevation\", \n",
    "                                    data_type = \"FLOAT\", \n",
    "                                    sampling_type = \"CELLSIZE\",\n",
    "                                    sampling_value = sampling_value_user,\n",
    "                                    z_factor =1)\n"
   ]
  },
  {
   "cell_type": "markdown",
   "metadata": {},
   "source": [
    "# Step 2 - Aspect"
   ]
  },
  {
   "cell_type": "code",
   "execution_count": null,
   "metadata": {},
   "outputs": [],
   "source": [
    "# Set output file name\n",
    "outAspectReal = outfolder + prefixName\n",
    "\n",
    "# Execute the geoprocessing tool LasDatasetToRaster\n",
    "outAspect = Aspect(out_LasToRaster)\n",
    "\n",
    "checkExist(outAspectReal)\n",
    "\n",
    "outAspect.save(outAspectReal)\n"
   ]
  },
  {
   "cell_type": "markdown",
   "metadata": {},
   "source": [
    "# Step 3 - Reclassify "
   ]
  },
  {
   "cell_type": "code",
   "execution_count": null,
   "metadata": {},
   "outputs": [],
   "source": [
    "# Set local variables\n",
    "inRaster = outAspectReal\n",
    "reclassField = \"VALUE\"\n",
    "remap = RemapValue([[-1, -1, 1], [-1, 22.5, 2], [ 22.5, 67.5, 3],\n",
    "                    [67.5, 112.5, 4], [112.5, 157.5, 5], [157.5, 202.5, 6], \n",
    "                    [202.5, 247.5, 7], [247.5, 292.5, 8], [292.5, 337.5, 9],\n",
    "                   [337.5, 360, 10]])\n",
    "\n",
    "# Execute Reclassify\n",
    "outReclassify = Reclassify(outAspectReal, reclassField, remap, \"NODATA\")\n",
    "\n",
    "# Save the output \n",
    "outReclassifyReal = outfolder + prefixName + \"_rec\"\n",
    "\n",
    "checkExist(outReclassifyReal)\n",
    "\n",
    "outReclassify.save(outReclassifyReal)\n"
   ]
  },
  {
   "cell_type": "markdown",
   "metadata": {},
   "source": [
    "# Step 4 - Raster to polygon"
   ]
  },
  {
   "cell_type": "code",
   "execution_count": null,
   "metadata": {},
   "outputs": [],
   "source": [
    "# Set local variables\n",
    "inRaster = outReclassifyReal\n",
    "outPolygons = outfolder + prefixName + \"_rec_pg\"  # No need to write \".shp\" in the end.\n",
    "field = \"Value\"\n",
    "\n",
    "checkExist(outPolygons)\n",
    "\n",
    "# Execute RasterToPolygon\n",
    "arcpy.RasterToPolygon_conversion(inRaster, outPolygons, \"NO_SIMPLIFY\", field)\n"
   ]
  },
  {
   "cell_type": "markdown",
   "metadata": {},
   "source": [
    "# Step 5 - Intersect\n",
    "This cell will consume lots of runtime."
   ]
  },
  {
   "cell_type": "code",
   "execution_count": null,
   "metadata": {},
   "outputs": [],
   "source": [
    "inFeatures1 = chosenShp\n",
    "inFeatures2 = outPolygons\n",
    "intersectOutput = outfolder + prefixName + \"_rec_pg_int\" \n",
    "\n",
    "checkExist(intersectOutput)\n",
    "\n",
    "arcpy.Intersect_analysis([inFeatures1, inFeatures2], intersectOutput)\n"
   ]
  },
  {
   "cell_type": "markdown",
   "metadata": {},
   "source": [
    "# Step 6 - Dissolve I"
   ]
  },
  {
   "cell_type": "code",
   "execution_count": null,
   "metadata": {},
   "outputs": [],
   "source": [
    "outDissolveFirst = outfolder + prefixName + \"_rec_pg_int_di\" \n",
    "dissolveFields = [\"ID_Sep\", \"gridcode\"]\n",
    "\n",
    "checkExist(outDissolveFirst)\n",
    "\n",
    "arcpy.Dissolve_management(intersectOutput, outDissolveFirst, dissolveFields)\n"
   ]
  },
  {
   "cell_type": "markdown",
   "metadata": {},
   "source": [
    "# Step 7 - Sort"
   ]
  },
  {
   "cell_type": "code",
   "execution_count": null,
   "metadata": {},
   "outputs": [],
   "source": [
    "# source: https://desktop.arcgis.com/en/arcmap/latest/tools/data-management-toolbox/sort.htm\n",
    "# set local variables\n",
    "in_dataset = outDissolveFirst\n",
    "out_Sort = outfolder + prefixName + \"_rec_pg_int_di_sor\" \n",
    "\n",
    "# Order features first by location (Shape) and then by WELL_YIELD\n",
    "sort_fields = [[\"ID_Sep\", \"ASCENDING\"], [\"Shape_Area\", \"DESCENDING\"]]\n",
    "\n",
    "checkExist(out_Sort)\n",
    "\n",
    "# execute the function\n",
    "arcpy.Sort_management(in_dataset, out_Sort, sort_fields)\n"
   ]
  },
  {
   "cell_type": "markdown",
   "metadata": {},
   "source": [
    "# Step 8 - Dissolve II"
   ]
  },
  {
   "cell_type": "code",
   "execution_count": null,
   "metadata": {},
   "outputs": [],
   "source": [
    "outDissolveSecond = outfolder + prefixName + \"_rec_pg_int_di_sor_di\" \n",
    "dissolveFields = [\"ID_Sep\"]\n",
    "statistics_fields = [[\"gridcode\", \"FIRST\"]]\n",
    "\n",
    "checkExist(outDissolveSecond)\n",
    "\n",
    "arcpy.Dissolve_management(out_Sort, outDissolveSecond, dissolveFields, statistics_fields)\n"
   ]
  },
  {
   "cell_type": "markdown",
   "metadata": {},
   "source": [
    "# Step 9 - Add a new column"
   ]
  },
  {
   "cell_type": "code",
   "execution_count": null,
   "metadata": {},
   "outputs": [],
   "source": [
    "# Set local variables\n",
    "inFeatures = outDissolveSecond\n",
    "fieldName1 = \"Aspect_sep\"\n",
    "fieldAlias = \"Aspect_sep\"\n",
    "fieldScale = 6\n",
    "\n",
    "# Execute AddField twice for two new fields\n",
    "arcpy.AddField_management(inFeatures, fieldName1, \"LONG\", field_scale = fieldScale,\n",
    "                          field_alias=fieldAlias)\n",
    "\n",
    "arcpy.management.CalculateField(inFeatures, \"Aspect_sep\", \"!FIRST_gridcode!\") \n"
   ]
  },
  {
   "cell_type": "code",
   "execution_count": null,
   "metadata": {},
   "outputs": [],
   "source": [
    "arcpy.management.CalculateField(inFeatures, \"Aspect_sep\", \"!FIRST_gridcode!\") \n"
   ]
  },
  {
   "cell_type": "markdown",
   "metadata": {},
   "source": [
    "# Step 10 - Export the current shapefile as a new shapefile for being joined with the shapefile from aspect calculation"
   ]
  },
  {
   "cell_type": "code",
   "execution_count": null,
   "metadata": {},
   "outputs": [],
   "source": [
    "in_features = outfolder + prefixName + \"_rec_pg_int_di_sor_di\"\n",
    "in_features_copied = outfolder + prefixName + \"_rec_pg_int_di_sor_di_copied\" \n",
    "\n",
    "checkExist(in_features_copied)\n",
    "\n",
    "arcpy.management.CopyFeatures(in_features, in_features_copied)\n"
   ]
  },
  {
   "cell_type": "markdown",
   "metadata": {},
   "source": [
    "# Check the attribute table"
   ]
  },
  {
   "cell_type": "code",
   "execution_count": null,
   "metadata": {
    "collapsed": true
   },
   "outputs": [],
   "source": [
    "featureclass = inFeatures\n",
    "field_names = [f.name for f in arcpy.ListFields(featureclass)]\n",
    "print(field_names)\n",
    "\n",
    "fc = featureclass\n",
    "\n",
    "cursor = arcpy.da.SearchCursor(fc, ['ID_Sep', 'FIRST_gridcode', 'Aspect_sep'])\n",
    "for row in cursor:\n",
    "    print(row)\n",
    "    "
   ]
  },
  {
   "cell_type": "code",
   "execution_count": null,
   "metadata": {},
   "outputs": [],
   "source": [
    "# Source: https://arcpy.wordpress.com/2014/08/07/pretty-print-fields/\n",
    "def pprint_fields(table):\n",
    "    \"\"\" pretty print table's fields and their properties \"\"\"\n",
    "    def _print(l):\n",
    "        print(\"\".join([\"{:>12}\".format(i) for i in l]))\n",
    "    atts = ['name', 'aliasName', 'type', \n",
    "            'required', 'scale',]\n",
    "    _print(atts)\n",
    "    for f in arcpy.ListFields(table):\n",
    "        _print([\"{:>12}\".format(getattr(f, i)) for i in atts])\n",
    "        \n",
    "pprint_fields(featureclass)"
   ]
  },
  {
   "cell_type": "markdown",
   "metadata": {},
   "source": [
    "# Slope calculation starts from this cell"
   ]
  },
  {
   "cell_type": "code",
   "execution_count": null,
   "metadata": {},
   "outputs": [],
   "source": [
    "prefixName = prefixNameSlp\n"
   ]
  },
  {
   "cell_type": "markdown",
   "metadata": {},
   "source": [
    "# Step 1 - Slope"
   ]
  },
  {
   "cell_type": "code",
   "execution_count": null,
   "metadata": {},
   "outputs": [],
   "source": [
    "# Set output file name\n",
    "outSlopeReal = outfolder + prefixName\n",
    "\n",
    "checkExist(outSlopeReal)\n",
    "\n",
    "arcpy.ddd.Slope(out_LasToRaster, outSlopeReal, output_measurement = 'DEGREE', z_factor = 1, method = 'PLANAR', z_unit = 'METER')\n"
   ]
  },
  {
   "cell_type": "markdown",
   "metadata": {},
   "source": [
    "# Step 2 - Reclassify"
   ]
  },
  {
   "cell_type": "code",
   "execution_count": null,
   "metadata": {},
   "outputs": [],
   "source": [
    "# Set local variables\n",
    "outSlopeReal = outfolder + prefixName\n",
    "inRaster = outSlopeReal\n",
    "reclassField = \"VALUE\"\n",
    "remap = RemapValue([[0,10,1],[10,20,2],[20,30,3],\n",
    "                   [30,40,4],[40,50,5],[50,60,6],[60,90,7]])\n",
    "\n",
    "# Execute Reclassify\n",
    "outReclassify = Reclassify(outSlopeReal, reclassField, remap, \"NODATA\")\n",
    "\n",
    "# Save the output \n",
    "outReclassifyReal = outfolder + prefixName + \"_rec\"\n",
    "\n",
    "checkExist(outReclassifyReal)\n",
    "\n",
    "outReclassify.save(outReclassifyReal)\n"
   ]
  },
  {
   "cell_type": "markdown",
   "metadata": {},
   "source": [
    "# Step 3 - Raster to polygon"
   ]
  },
  {
   "cell_type": "code",
   "execution_count": null,
   "metadata": {},
   "outputs": [],
   "source": [
    "# Set local variables\n",
    "inRaster = outReclassifyReal\n",
    "outPolygons = outfolder + prefixName + \"_rec_pg\"  # no need to write \".shp\"\n",
    "field = \"Value\"\n",
    "\n",
    "checkExist(outPolygons)\n",
    "\n",
    "# Execute RasterToPolygon\n",
    "arcpy.RasterToPolygon_conversion(inRaster, outPolygons, \"NO_SIMPLIFY\", field)\n"
   ]
  },
  {
   "cell_type": "markdown",
   "metadata": {},
   "source": [
    "# Step 4 - Intersect\n",
    "\n",
    "## Be careful! The below cell will consume lots of runtime. "
   ]
  },
  {
   "cell_type": "code",
   "execution_count": null,
   "metadata": {},
   "outputs": [],
   "source": [
    "inFeatures1 = chosenShp\n",
    "inFeatures2 = outPolygons\n",
    "intersectOutput = outfolder + prefixName + \"_rec_pg_int\" \n",
    "\n",
    "checkExist(intersectOutput)\n",
    "\n",
    "arcpy.Intersect_analysis([inFeatures1, inFeatures2], intersectOutput)\n"
   ]
  },
  {
   "cell_type": "markdown",
   "metadata": {},
   "source": [
    "# Step 5 - Dissolve I"
   ]
  },
  {
   "cell_type": "code",
   "execution_count": null,
   "metadata": {},
   "outputs": [],
   "source": [
    "outDissolveFirst = outfolder + prefixName + \"_rec_pg_int_di\" \n",
    "dissolveFields = [\"ID_Sep\", \"gridcode\"]\n",
    "\n",
    "checkExist(outDissolveFirst)\n",
    "\n",
    "arcpy.Dissolve_management(intersectOutput, outDissolveFirst, dissolveFields)\n"
   ]
  },
  {
   "cell_type": "markdown",
   "metadata": {},
   "source": [
    "# Step 6 - Sort"
   ]
  },
  {
   "cell_type": "code",
   "execution_count": null,
   "metadata": {},
   "outputs": [],
   "source": [
    "# source: https://desktop.arcgis.com/en/arcmap/latest/tools/data-management-toolbox/sort.htm\n",
    "# set local variables\n",
    "in_dataset = outDissolveFirst\n",
    "out_Sort = outfolder + prefixName + \"_rec_pg_int_di_sor\" \n",
    "\n",
    "# Order features first by location (Shape) and then by WELL_YIELD\n",
    "sort_fields = [[\"ID_Sep\", \"ASCENDING\"], [\"Shape_Area\", \"DESCENDING\"]]\n",
    "\n",
    "checkExist(out_Sort)\n",
    "\n",
    "# execute the function\n",
    "arcpy.Sort_management(in_dataset, out_Sort, sort_fields)\n"
   ]
  },
  {
   "cell_type": "markdown",
   "metadata": {},
   "source": [
    "# Step 7 - Dissolve II"
   ]
  },
  {
   "cell_type": "code",
   "execution_count": null,
   "metadata": {},
   "outputs": [],
   "source": [
    "outDissolveSecond = outfolder + prefixName + \"_rec_pg_int_di_sor_di\" \n",
    "dissolveFields = [\"ID_Sep\"]\n",
    "statistics_fields = [[\"gridcode\", \"FIRST\"]]\n",
    "\n",
    "checkExist(outDissolveSecond)\n",
    "\n",
    "arcpy.Dissolve_management(out_Sort, outDissolveSecond, dissolveFields, statistics_fields)\n"
   ]
  },
  {
   "cell_type": "markdown",
   "metadata": {},
   "source": [
    "# Step 8 - Add a new column"
   ]
  },
  {
   "cell_type": "code",
   "execution_count": null,
   "metadata": {},
   "outputs": [],
   "source": [
    "# Set local variables\n",
    "inFeatures = outDissolveSecond\n",
    "fieldName1 = \"Slope_Sep\"\n",
    "fieldAlias = \"Slope_Sep\"\n",
    "fieldScale = 6\n",
    "\n",
    "# Execute AddField twice for two new fields\n",
    "arcpy.AddField_management(inFeatures, fieldName1, \"LONG\", field_scale = fieldScale,\n",
    "                          field_alias=fieldAlias)\n",
    "\n",
    "arcpy.management.CalculateField(inFeatures, \"Slope_Sep\", \"!FIRST_gridcode!\") \n"
   ]
  },
  {
   "cell_type": "code",
   "execution_count": null,
   "metadata": {},
   "outputs": [],
   "source": [
    "arcpy.management.CalculateField(inFeatures, \"Slope_Sep\", \"!FIRST_gridcode!\") "
   ]
  },
  {
   "cell_type": "markdown",
   "metadata": {},
   "source": [
    "# Check  the attribute table"
   ]
  },
  {
   "cell_type": "code",
   "execution_count": null,
   "metadata": {
    "collapsed": true
   },
   "outputs": [],
   "source": [
    "featureclass = inFeatures\n",
    "field_names = [f.name for f in arcpy.ListFields(featureclass)]\n",
    "print(field_names)\n",
    "\n",
    "fc = featureclass\n",
    "\n",
    "cursor = arcpy.da.SearchCursor(fc, ['ID_Sep', 'FIRST_gridcode', 'Slope_Sep'])\n",
    "for row in cursor:\n",
    "    print(row)\n"
   ]
  },
  {
   "cell_type": "code",
   "execution_count": null,
   "metadata": {},
   "outputs": [],
   "source": [
    "pprint_fields(featureclass)\n"
   ]
  },
  {
   "cell_type": "markdown",
   "metadata": {},
   "source": [
    "# Join tables\n",
    "# Step 1 - Check if fields look like what we expected"
   ]
  },
  {
   "cell_type": "code",
   "execution_count": null,
   "metadata": {
    "collapsed": true
   },
   "outputs": [],
   "source": [
    "# for checking column names\n",
    "inputAspSHP = outfolder + prefixNameAsp + \"_rec_pg_int_di_sor_di_copied\" \n",
    "inputSlpSHP = outfolder + prefixNameSlp + \"_rec_pg_int_di_sor_di\" \n",
    "\n",
    "featureclass = inputSlpSHP\n",
    "field_names = [f.name for f in arcpy.ListFields(featureclass)]\n",
    "print(field_names)\n",
    "\n",
    "fc = featureclass\n",
    "\n",
    "cursor = arcpy.da.SearchCursor(fc, ['ID_Sep', 'FIRST_gridcode', 'Slope_Sep'])\n",
    "for row in cursor:\n",
    "    print(row)\n",
    "    "
   ]
  },
  {
   "cell_type": "markdown",
   "metadata": {},
   "source": [
    "# Step 2 - Join fields"
   ]
  },
  {
   "cell_type": "code",
   "execution_count": null,
   "metadata": {},
   "outputs": [],
   "source": [
    "inputAspSHP = outfolder + prefixNameAsp + \"_rec_pg_int_di_sor_di_copied\" \n",
    "inputSlpSHP = outfolder + prefixNameSlp + \"_rec_pg_int_di_sor_di\" \n",
    "\n",
    "arcpy.management.JoinField(inputAspSHP, 'ID_Sep', inputSlpSHP, 'ID_Sep')  # NOT [\"ID_Sep\"]!\n"
   ]
  },
  {
   "cell_type": "markdown",
   "metadata": {},
   "source": [
    "# Step 3 - Check if fields are fine after running the tool \"Join\""
   ]
  },
  {
   "cell_type": "code",
   "execution_count": null,
   "metadata": {
    "collapsed": true
   },
   "outputs": [],
   "source": [
    "featureclass = inputAspSHP\n",
    "field_names = [f.name for f in arcpy.ListFields(featureclass)]\n",
    "print(field_names)\n",
    "\n",
    "fc = featureclass\n",
    "\n",
    "cursor = arcpy.da.SearchCursor(fc, ['ID_Sep', 'Aspect_sep', 'Slope_Sep'])\n",
    "for row in cursor:\n",
    "    print(row)\n",
    "    "
   ]
  },
  {
   "cell_type": "markdown",
   "metadata": {},
   "source": [
    "# Step 4 - Delete irrelated fields"
   ]
  },
  {
   "cell_type": "code",
   "execution_count": null,
   "metadata": {},
   "outputs": [],
   "source": [
    "arcpy.DeleteField_management(inputAspSHP, \n",
    "                             ['FIRST_gridcode', 'ID_Sep_1', 'FIRST_gridcode_1', 'Shape_Length_1', 'Shape_Area_1'])\n",
    "\n",
    "featureclass = inputAspSHP\n",
    "field_names = [f.name for f in arcpy.ListFields(featureclass)]\n",
    "print(field_names)\n"
   ]
  },
  {
   "cell_type": "markdown",
   "metadata": {},
   "source": [
    "# Step 5 - Join fields with roof outline shapefile"
   ]
  },
  {
   "cell_type": "code",
   "execution_count": null,
   "metadata": {},
   "outputs": [],
   "source": [
    "arcpy.management.JoinField(roof_copied, 'ID_Sep', inputAspSHP, 'ID_Sep')\n"
   ]
  },
  {
   "cell_type": "code",
   "execution_count": null,
   "metadata": {},
   "outputs": [],
   "source": [
    "# Check fields\n",
    "featureclass = roof_copied\n",
    "field_names = [f.name for f in arcpy.ListFields(featureclass)]\n",
    "print(field_names)\n"
   ]
  },
  {
   "cell_type": "code",
   "execution_count": null,
   "metadata": {},
   "outputs": [],
   "source": [
    "# Delte redundant fields\n",
    "arcpy.DeleteField_management(roof_copied, \n",
    "                             ['Id', 'Shape_Length_1', 'ID_Sep_1', 'Aspect_sep_1', 'Shape_Length_12', 'Shape_Area_1', 'Slope_Sep_1'])\n",
    "\n",
    "featureclass = roof_copied\n",
    "field_names = [f.name for f in arcpy.ListFields(featureclass)]\n",
    "print(field_names)\n"
   ]
  },
  {
   "cell_type": "markdown",
   "metadata": {},
   "source": [
    "The calculation of roof-based aspect and slope is finished."
   ]
  }
 ],
 "metadata": {
  "kernelspec": {
   "display_name": "Python 3",
   "language": "python",
   "name": "python3"
  },
  "language_info": {
   "codemirror_mode": {
    "name": "ipython",
    "version": 3
   },
   "file_extension": ".py",
   "mimetype": "text/x-python",
   "name": "python",
   "nbconvert_exporter": "python",
   "pygments_lexer": "ipython3",
   "version": "3.7.10"
  }
 },
 "nbformat": 4,
 "nbformat_minor": 2
}
